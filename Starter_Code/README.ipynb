{
 "cells": [
  {
   "cell_type": "code",
   "execution_count": null,
   "id": "00ebfc38-5478-47f6-82ca-1d629bdb53d0",
   "metadata": {},
   "outputs": [],
   "source": [
    "## ETF Analyzer "
   ]
  },
  {
   "cell_type": "code",
   "execution_count": null,
   "id": "859e56bd-bd6f-4b90-a644-a1a9b3599437",
   "metadata": {},
   "outputs": [],
   "source": []
  },
  {
   "cell_type": "code",
   "execution_count": null,
   "id": "87243bf8-28f5-48bb-bca4-01b23c8a0d8f",
   "metadata": {},
   "outputs": [],
   "source": [
    "## Technologies"
   ]
  },
  {
   "cell_type": "code",
   "execution_count": null,
   "id": "0ba763ea-6069-42d9-b1ca-68a3e0ecfe03",
   "metadata": {},
   "outputs": [],
   "source": [
    "This project leverages python 3.7 with the following packages:\n",
    " * [numpy](https://numpy.org) - Numpy provides an extensive\n",
    "package of mathematcal functions, random number generators, \n",
    "and other compendious functions.\n",
    "* [pandas](https://pandas.pydata.org) - For using data science/data analysis and machine learning tasks.\n",
    "* [hvplot](https://hvplot.holoviz.org) - For plotting visual data and seeing a map geographically,\n"
   ]
  },
  {
   "cell_type": "code",
   "execution_count": null,
   "id": "0daed4de-a120-4028-9642-b190a124acc9",
   "metadata": {},
   "outputs": [],
   "source": [
    "## Installation Guide"
   ]
  },
  {
   "cell_type": "code",
   "execution_count": null,
   "id": "f573608d-c9e1-4600-8ebf-c3b45494108f",
   "metadata": {},
   "outputs": [],
   "source": [
    "Before running the application first install the following dependencies.\n",
    "\n",
    "```python\n",
    "  pip install pandas\n",
    "  pip install numpy\n",
    "  pip install hvplot\n",
    "  pip install SQLAlchemy\n",
    "```\n",
    "\n",
    "---"
   ]
  },
  {
   "cell_type": "code",
   "execution_count": null,
   "id": "9f239a00-e37a-4e29-a061-6ce649f3e226",
   "metadata": {},
   "outputs": [],
   "source": [
    "## Usage"
   ]
  },
  {
   "cell_type": "code",
   "execution_count": null,
   "id": "6c60789d-a94f-4190-a04a-c722aec1fce7",
   "metadata": {},
   "outputs": [],
   "source": [
    "To use the ETF Analyzer simply clone the repository and run jupyter lab in the terminal with:\n",
    "\n",
    "```python\n",
    "open jupyter lab\n",
    "```\n",
    "\n",
    "Upon launching the ETF Analyzer  you will be greeted with the following prompts.\n",
    "\n",
    "![ETF Analyzer Prompts](Images/(ETF_Analyzer.png))\n",
    "\n",
    "\n",
    "---"
   ]
  },
  {
   "cell_type": "code",
   "execution_count": null,
   "id": "da04229d-3733-47e8-99ed-e26fcd16e06e",
   "metadata": {},
   "outputs": [],
   "source": [
    "## Contributors"
   ]
  },
  {
   "cell_type": "code",
   "execution_count": null,
   "id": "b98213c2-eaff-4324-b938-95cd9c146d6b",
   "metadata": {},
   "outputs": [],
   "source": [
    "Brought to you by Marissa Gonzales."
   ]
  },
  {
   "cell_type": "code",
   "execution_count": null,
   "id": "a80e60db-40b2-4f7a-8ebd-9bd131a3db4d",
   "metadata": {},
   "outputs": [],
   "source": [
    "## License"
   ]
  },
  {
   "cell_type": "code",
   "execution_count": null,
   "id": "51948333-131c-4b89-815b-0ae2fef7e30c",
   "metadata": {},
   "outputs": [],
   "source": [
    "MIT"
   ]
  }
 ],
 "metadata": {
  "kernelspec": {
   "display_name": "Python 3 (ipykernel)",
   "language": "python",
   "name": "python3"
  },
  "language_info": {
   "codemirror_mode": {
    "name": "ipython",
    "version": 3
   },
   "file_extension": ".py",
   "mimetype": "text/x-python",
   "name": "python",
   "nbconvert_exporter": "python",
   "pygments_lexer": "ipython3",
   "version": "3.7.13"
  }
 },
 "nbformat": 4,
 "nbformat_minor": 5
}
